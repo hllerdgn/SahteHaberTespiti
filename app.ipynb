{
  "nbformat": 4,
  "nbformat_minor": 0,
  "metadata": {
    "colab": {
      "provenance": []
    },
    "kernelspec": {
      "name": "python3",
      "display_name": "Python 3"
    },
    "language_info": {
      "name": "python"
    }
  },
  "cells": [
    {
      "cell_type": "code",
      "execution_count": 1,
      "metadata": {
        "colab": {
          "base_uri": "https://localhost:8080/"
        },
        "id": "2A0HhrQJcYUo",
        "outputId": "d75f1bb5-2408-4eaf-bdd3-13a7a3ada1a0"
      },
      "outputs": [
        {
          "output_type": "stream",
          "name": "stdout",
          "text": [
            "\u001b[2K   \u001b[90m━━━━━━━━━━━━━━━━━━━━━━━━━━━━━━━━━━━━━━━━\u001b[0m \u001b[32m54.2/54.2 MB\u001b[0m \u001b[31m19.3 MB/s\u001b[0m eta \u001b[36m0:00:00\u001b[0m\n",
            "\u001b[2K   \u001b[90m━━━━━━━━━━━━━━━━━━━━━━━━━━━━━━━━━━━━━━━━\u001b[0m \u001b[32m323.1/323.1 kB\u001b[0m \u001b[31m18.9 MB/s\u001b[0m eta \u001b[36m0:00:00\u001b[0m\n",
            "\u001b[2K   \u001b[90m━━━━━━━━━━━━━━━━━━━━━━━━━━━━━━━━━━━━━━━━\u001b[0m \u001b[32m95.2/95.2 kB\u001b[0m \u001b[31m6.3 MB/s\u001b[0m eta \u001b[36m0:00:00\u001b[0m\n",
            "\u001b[2K   \u001b[90m━━━━━━━━━━━━━━━━━━━━━━━━━━━━━━━━━━━━━━━━\u001b[0m \u001b[32m11.5/11.5 MB\u001b[0m \u001b[31m109.1 MB/s\u001b[0m eta \u001b[36m0:00:00\u001b[0m\n",
            "\u001b[2K   \u001b[90m━━━━━━━━━━━━━━━━━━━━━━━━━━━━━━━━━━━━━━━━\u001b[0m \u001b[32m72.0/72.0 kB\u001b[0m \u001b[31m4.8 MB/s\u001b[0m eta \u001b[36m0:00:00\u001b[0m\n",
            "\u001b[2K   \u001b[90m━━━━━━━━━━━━━━━━━━━━━━━━━━━━━━━━━━━━━━━━\u001b[0m \u001b[32m62.5/62.5 kB\u001b[0m \u001b[31m4.3 MB/s\u001b[0m eta \u001b[36m0:00:00\u001b[0m\n",
            "\u001b[?25h"
          ]
        }
      ],
      "source": [
        "!pip install pyspark gradio --quiet\n"
      ]
    },
    {
      "cell_type": "code",
      "source": [
        "from google.colab import files\n",
        "uploaded = files.upload()  # fake_news_model.zip dosyasını yükle\n"
      ],
      "metadata": {
        "colab": {
          "base_uri": "https://localhost:8080/",
          "height": 73
        },
        "id": "T6SyM_EVdw09",
        "outputId": "3c15e187-868e-41fa-c41e-bc90827f3831"
      },
      "execution_count": 3,
      "outputs": [
        {
          "output_type": "display_data",
          "data": {
            "text/plain": [
              "<IPython.core.display.HTML object>"
            ],
            "text/html": [
              "\n",
              "     <input type=\"file\" id=\"files-2818a37d-96b7-4f82-aa8a-d8083e4c1e6b\" name=\"files[]\" multiple disabled\n",
              "        style=\"border:none\" />\n",
              "     <output id=\"result-2818a37d-96b7-4f82-aa8a-d8083e4c1e6b\">\n",
              "      Upload widget is only available when the cell has been executed in the\n",
              "      current browser session. Please rerun this cell to enable.\n",
              "      </output>\n",
              "      <script>// Copyright 2017 Google LLC\n",
              "//\n",
              "// Licensed under the Apache License, Version 2.0 (the \"License\");\n",
              "// you may not use this file except in compliance with the License.\n",
              "// You may obtain a copy of the License at\n",
              "//\n",
              "//      http://www.apache.org/licenses/LICENSE-2.0\n",
              "//\n",
              "// Unless required by applicable law or agreed to in writing, software\n",
              "// distributed under the License is distributed on an \"AS IS\" BASIS,\n",
              "// WITHOUT WARRANTIES OR CONDITIONS OF ANY KIND, either express or implied.\n",
              "// See the License for the specific language governing permissions and\n",
              "// limitations under the License.\n",
              "\n",
              "/**\n",
              " * @fileoverview Helpers for google.colab Python module.\n",
              " */\n",
              "(function(scope) {\n",
              "function span(text, styleAttributes = {}) {\n",
              "  const element = document.createElement('span');\n",
              "  element.textContent = text;\n",
              "  for (const key of Object.keys(styleAttributes)) {\n",
              "    element.style[key] = styleAttributes[key];\n",
              "  }\n",
              "  return element;\n",
              "}\n",
              "\n",
              "// Max number of bytes which will be uploaded at a time.\n",
              "const MAX_PAYLOAD_SIZE = 100 * 1024;\n",
              "\n",
              "function _uploadFiles(inputId, outputId) {\n",
              "  const steps = uploadFilesStep(inputId, outputId);\n",
              "  const outputElement = document.getElementById(outputId);\n",
              "  // Cache steps on the outputElement to make it available for the next call\n",
              "  // to uploadFilesContinue from Python.\n",
              "  outputElement.steps = steps;\n",
              "\n",
              "  return _uploadFilesContinue(outputId);\n",
              "}\n",
              "\n",
              "// This is roughly an async generator (not supported in the browser yet),\n",
              "// where there are multiple asynchronous steps and the Python side is going\n",
              "// to poll for completion of each step.\n",
              "// This uses a Promise to block the python side on completion of each step,\n",
              "// then passes the result of the previous step as the input to the next step.\n",
              "function _uploadFilesContinue(outputId) {\n",
              "  const outputElement = document.getElementById(outputId);\n",
              "  const steps = outputElement.steps;\n",
              "\n",
              "  const next = steps.next(outputElement.lastPromiseValue);\n",
              "  return Promise.resolve(next.value.promise).then((value) => {\n",
              "    // Cache the last promise value to make it available to the next\n",
              "    // step of the generator.\n",
              "    outputElement.lastPromiseValue = value;\n",
              "    return next.value.response;\n",
              "  });\n",
              "}\n",
              "\n",
              "/**\n",
              " * Generator function which is called between each async step of the upload\n",
              " * process.\n",
              " * @param {string} inputId Element ID of the input file picker element.\n",
              " * @param {string} outputId Element ID of the output display.\n",
              " * @return {!Iterable<!Object>} Iterable of next steps.\n",
              " */\n",
              "function* uploadFilesStep(inputId, outputId) {\n",
              "  const inputElement = document.getElementById(inputId);\n",
              "  inputElement.disabled = false;\n",
              "\n",
              "  const outputElement = document.getElementById(outputId);\n",
              "  outputElement.innerHTML = '';\n",
              "\n",
              "  const pickedPromise = new Promise((resolve) => {\n",
              "    inputElement.addEventListener('change', (e) => {\n",
              "      resolve(e.target.files);\n",
              "    });\n",
              "  });\n",
              "\n",
              "  const cancel = document.createElement('button');\n",
              "  inputElement.parentElement.appendChild(cancel);\n",
              "  cancel.textContent = 'Cancel upload';\n",
              "  const cancelPromise = new Promise((resolve) => {\n",
              "    cancel.onclick = () => {\n",
              "      resolve(null);\n",
              "    };\n",
              "  });\n",
              "\n",
              "  // Wait for the user to pick the files.\n",
              "  const files = yield {\n",
              "    promise: Promise.race([pickedPromise, cancelPromise]),\n",
              "    response: {\n",
              "      action: 'starting',\n",
              "    }\n",
              "  };\n",
              "\n",
              "  cancel.remove();\n",
              "\n",
              "  // Disable the input element since further picks are not allowed.\n",
              "  inputElement.disabled = true;\n",
              "\n",
              "  if (!files) {\n",
              "    return {\n",
              "      response: {\n",
              "        action: 'complete',\n",
              "      }\n",
              "    };\n",
              "  }\n",
              "\n",
              "  for (const file of files) {\n",
              "    const li = document.createElement('li');\n",
              "    li.append(span(file.name, {fontWeight: 'bold'}));\n",
              "    li.append(span(\n",
              "        `(${file.type || 'n/a'}) - ${file.size} bytes, ` +\n",
              "        `last modified: ${\n",
              "            file.lastModifiedDate ? file.lastModifiedDate.toLocaleDateString() :\n",
              "                                    'n/a'} - `));\n",
              "    const percent = span('0% done');\n",
              "    li.appendChild(percent);\n",
              "\n",
              "    outputElement.appendChild(li);\n",
              "\n",
              "    const fileDataPromise = new Promise((resolve) => {\n",
              "      const reader = new FileReader();\n",
              "      reader.onload = (e) => {\n",
              "        resolve(e.target.result);\n",
              "      };\n",
              "      reader.readAsArrayBuffer(file);\n",
              "    });\n",
              "    // Wait for the data to be ready.\n",
              "    let fileData = yield {\n",
              "      promise: fileDataPromise,\n",
              "      response: {\n",
              "        action: 'continue',\n",
              "      }\n",
              "    };\n",
              "\n",
              "    // Use a chunked sending to avoid message size limits. See b/62115660.\n",
              "    let position = 0;\n",
              "    do {\n",
              "      const length = Math.min(fileData.byteLength - position, MAX_PAYLOAD_SIZE);\n",
              "      const chunk = new Uint8Array(fileData, position, length);\n",
              "      position += length;\n",
              "\n",
              "      const base64 = btoa(String.fromCharCode.apply(null, chunk));\n",
              "      yield {\n",
              "        response: {\n",
              "          action: 'append',\n",
              "          file: file.name,\n",
              "          data: base64,\n",
              "        },\n",
              "      };\n",
              "\n",
              "      let percentDone = fileData.byteLength === 0 ?\n",
              "          100 :\n",
              "          Math.round((position / fileData.byteLength) * 100);\n",
              "      percent.textContent = `${percentDone}% done`;\n",
              "\n",
              "    } while (position < fileData.byteLength);\n",
              "  }\n",
              "\n",
              "  // All done.\n",
              "  yield {\n",
              "    response: {\n",
              "      action: 'complete',\n",
              "    }\n",
              "  };\n",
              "}\n",
              "\n",
              "scope.google = scope.google || {};\n",
              "scope.google.colab = scope.google.colab || {};\n",
              "scope.google.colab._files = {\n",
              "  _uploadFiles,\n",
              "  _uploadFilesContinue,\n",
              "};\n",
              "})(self);\n",
              "</script> "
            ]
          },
          "metadata": {}
        },
        {
          "output_type": "stream",
          "name": "stdout",
          "text": [
            "Saving fake_news_model.zip to fake_news_model.zip\n"
          ]
        }
      ]
    },
    {
      "cell_type": "code",
      "source": [
        "import zipfile\n",
        "\n",
        "with zipfile.ZipFile(\"fake_news_model.zip\", 'r') as zip_ref:\n",
        "    zip_ref.extractall(\"./\")\n"
      ],
      "metadata": {
        "id": "U-AsfBn3d396"
      },
      "execution_count": 4,
      "outputs": []
    },
    {
      "cell_type": "code",
      "source": [
        "!ls -R fake_news_model\n"
      ],
      "metadata": {
        "colab": {
          "base_uri": "https://localhost:8080/"
        },
        "id": "aAaS5UYIeI8I",
        "outputId": "0cc80ab9-9efc-48be-85a8-1c5904eabd1d"
      },
      "execution_count": 6,
      "outputs": [
        {
          "output_type": "stream",
          "name": "stdout",
          "text": [
            "fake_news_model:\n",
            "ml_model  preprocessing_pipeline\n",
            "\n",
            "fake_news_model/ml_model:\n",
            "data  metadata\n",
            "\n",
            "fake_news_model/ml_model/data:\n",
            "part-00000-1fdc2f49-5e3e-4a87-aec2-a105ca894ca5-c000.snappy.parquet  _SUCCESS\n",
            "\n",
            "fake_news_model/ml_model/metadata:\n",
            "part-00000  _SUCCESS\n",
            "\n",
            "fake_news_model/preprocessing_pipeline:\n",
            "metadata  stages\n",
            "\n",
            "fake_news_model/preprocessing_pipeline/metadata:\n",
            "part-00000  _SUCCESS\n",
            "\n",
            "fake_news_model/preprocessing_pipeline/stages:\n",
            "0_Tokenizer_ea73d0c7c743\t 2_HashingTF_4fb752621ebf\n",
            "1_StopWordsRemover_9e616728d4ca  3_IDF_eefdce583c81\n",
            "\n",
            "fake_news_model/preprocessing_pipeline/stages/0_Tokenizer_ea73d0c7c743:\n",
            "metadata\n",
            "\n",
            "fake_news_model/preprocessing_pipeline/stages/0_Tokenizer_ea73d0c7c743/metadata:\n",
            "part-00000  _SUCCESS\n",
            "\n",
            "fake_news_model/preprocessing_pipeline/stages/1_StopWordsRemover_9e616728d4ca:\n",
            "metadata\n",
            "\n",
            "fake_news_model/preprocessing_pipeline/stages/1_StopWordsRemover_9e616728d4ca/metadata:\n",
            "part-00000  _SUCCESS\n",
            "\n",
            "fake_news_model/preprocessing_pipeline/stages/2_HashingTF_4fb752621ebf:\n",
            "metadata\n",
            "\n",
            "fake_news_model/preprocessing_pipeline/stages/2_HashingTF_4fb752621ebf/metadata:\n",
            "part-00000  _SUCCESS\n",
            "\n",
            "fake_news_model/preprocessing_pipeline/stages/3_IDF_eefdce583c81:\n",
            "data  metadata\n",
            "\n",
            "fake_news_model/preprocessing_pipeline/stages/3_IDF_eefdce583c81/data:\n",
            "part-00000-e21e12bc-0711-4259-8d0c-1a0717c11ba3-c000.snappy.parquet  _SUCCESS\n",
            "\n",
            "fake_news_model/preprocessing_pipeline/stages/3_IDF_eefdce583c81/metadata:\n",
            "part-00000  _SUCCESS\n"
          ]
        }
      ]
    },
    {
      "cell_type": "code",
      "source": [
        "import gradio as gr\n",
        "from pyspark.sql import SparkSession, Row\n",
        "from pyspark.ml import PipelineModel\n",
        "import os\n",
        "from pyspark.ml.classification import NaiveBayesModel\n",
        "\n",
        "# Spark başlatıcı\n",
        "def initialize_spark(app_name=\"FakeNewsApp\"):\n",
        "    return SparkSession.builder \\\n",
        "        .appName(app_name) \\\n",
        "        .master(\"local[*]\") \\\n",
        "        .getOrCreate()\n",
        "\n",
        "# Modeli yükleme\n",
        "\n",
        "def load_complete_pipeline(spark, model_path):\n",
        "    preprocessing_model = PipelineModel.load(os.path.join(model_path, \"preprocessing_pipeline\"))\n",
        "    model = NaiveBayesModel.load(os.path.join(model_path, \"ml_model\"))\n",
        "    model_type = \"Naive Bayes\"\n",
        "    return preprocessing_model, model, model_type\n",
        "\n",
        "# Tekli haber tahmin fonksiyonu\n",
        "def predict_single_text(spark, preprocessing_model, model, text):\n",
        "    df = spark.createDataFrame([Row(text=text)])\n",
        "    transformed = preprocessing_model.transform(df)\n",
        "    prediction = model.transform(transformed).select(\"prediction\").collect()[0][0]\n",
        "    return prediction\n",
        "\n",
        "# Gradio tahmin fonksiyonu\n",
        "def gradio_predict(text):\n",
        "    spark = initialize_spark()\n",
        "    try:\n",
        "        preprocessing_model, model, model_type = load_complete_pipeline(spark, \"./fake_news_model\")\n",
        "        prediction = predict_single_text(spark, preprocessing_model, model, text)\n",
        "        result = \"Gerçek Haber ✅\" if prediction == 1.0 else \"Yalan Haber ❌\"\n",
        "        return f\"{result} (Model: {model_type})\"\n",
        "    except Exception as e:\n",
        "        return f\"Hata oluştu: {e}\"\n",
        "    finally:\n",
        "        spark.stop()\n",
        "\n",
        "# Gradio arayüzü\n",
        "iface = gr.Interface(\n",
        "    fn=gradio_predict,\n",
        "    inputs=gr.Textbox(lines=5, placeholder=\"Haber metnini buraya yazınız...\"),\n",
        "    outputs=gr.Textbox(label=\"Tahmin Sonucu\"),\n",
        "    title=\"📰 Yalan Haber Tespit Sistemi\",\n",
        "    description=\"Bu arayüz, haber metninizin doğruluğunu tahmin eder.\",\n",
        ")\n",
        "\n",
        "iface.launch(share=True)\n"
      ],
      "metadata": {
        "colab": {
          "base_uri": "https://localhost:8080/",
          "height": 610
        },
        "id": "pQqe1PXQcrDk",
        "outputId": "781fabf0-6135-4816-a25f-9606e8dce0f9"
      },
      "execution_count": 10,
      "outputs": [
        {
          "output_type": "stream",
          "name": "stdout",
          "text": [
            "Colab notebook detected. To show errors in colab notebook, set debug=True in launch()\n",
            "* Running on public URL: https://a34cff060777d9e888.gradio.live\n",
            "\n",
            "This share link expires in 1 week. For free permanent hosting and GPU upgrades, run `gradio deploy` from the terminal in the working directory to deploy to Hugging Face Spaces (https://huggingface.co/spaces)\n"
          ]
        },
        {
          "output_type": "display_data",
          "data": {
            "text/plain": [
              "<IPython.core.display.HTML object>"
            ],
            "text/html": [
              "<div><iframe src=\"https://a34cff060777d9e888.gradio.live\" width=\"100%\" height=\"500\" allow=\"autoplay; camera; microphone; clipboard-read; clipboard-write;\" frameborder=\"0\" allowfullscreen></iframe></div>"
            ]
          },
          "metadata": {}
        },
        {
          "output_type": "execute_result",
          "data": {
            "text/plain": []
          },
          "metadata": {},
          "execution_count": 10
        }
      ]
    }
  ]
}